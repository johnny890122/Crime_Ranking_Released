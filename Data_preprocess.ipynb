{
 "cells": [
  {
   "cell_type": "markdown",
   "metadata": {},
   "source": [
    "# Import Package"
   ]
  },
  {
   "cell_type": "code",
   "execution_count": 67,
   "metadata": {},
   "outputs": [],
   "source": [
    "import pulp, json\n",
    "import networkx as nx\n",
    "import pandas as pd\n",
    "import numpy as np\n",
    "import itertools\n",
    "import matplotlib.pyplot as plt"
   ]
  },
  {
   "cell_type": "markdown",
   "metadata": {},
   "source": [
    "# Read Both"
   ]
  },
  {
   "cell_type": "code",
   "execution_count": 75,
   "metadata": {},
   "outputs": [],
   "source": [
    "# 讀入通訊紀錄\n",
    "data = json.load(open(\"input/json-intra-main-group-of-8W05D6H20.JSON.json\"))\n",
    "\n",
    "# 處理通訊紀錄的欄位\n",
    "df = pd.DataFrame(data['content_in_role'])\n",
    "df[\"Time\"] = df[\"Time\"].apply(pd.to_datetime)"
   ]
  },
  {
   "cell_type": "markdown",
   "metadata": {},
   "source": [
    "# Text Data"
   ]
  },
  {
   "cell_type": "code",
   "execution_count": 76,
   "metadata": {},
   "outputs": [
    {
     "name": "stdout",
     "output_type": "stream",
     "text": [
      "Before: # of Text: 604\n",
      "After: # of Text: 562\n"
     ]
    },
    {
     "data": {
      "text/html": [
       "<div>\n",
       "<style scoped>\n",
       "    .dataframe tbody tr th:only-of-type {\n",
       "        vertical-align: middle;\n",
       "    }\n",
       "\n",
       "    .dataframe tbody tr th {\n",
       "        vertical-align: top;\n",
       "    }\n",
       "\n",
       "    .dataframe thead th {\n",
       "        text-align: right;\n",
       "    }\n",
       "</style>\n",
       "<table border=\"1\" class=\"dataframe\">\n",
       "  <thead>\n",
       "    <tr style=\"text-align: right;\">\n",
       "      <th></th>\n",
       "      <th>nr</th>\n",
       "      <th>Time</th>\n",
       "      <th>ID_From</th>\n",
       "      <th>ID_Received</th>\n",
       "      <th>Type</th>\n",
       "    </tr>\n",
       "  </thead>\n",
       "  <tbody>\n",
       "    <tr>\n",
       "      <th>6</th>\n",
       "      <td>7</td>\n",
       "      <td>2014-07-06 12:29:00</td>\n",
       "      <td>MEQWEGGDW</td>\n",
       "      <td>MEGGGXPKG</td>\n",
       "      <td>SMS</td>\n",
       "    </tr>\n",
       "  </tbody>\n",
       "</table>\n",
       "</div>"
      ],
      "text/plain": [
       "   nr                Time    ID_From ID_Received Type\n",
       "6   7 2014-07-06 12:29:00  MEQWEGGDW   MEGGGXPKG  SMS"
      ]
     },
     "execution_count": 76,
     "metadata": {},
     "output_type": "execute_result"
    }
   ],
   "source": [
    "# read the text data\n",
    "df_text = df[df[\"Type\"] == \"SMS\"][[\"nr\", \"Time\", \"ID_From\", \"ID_Received\", \"Type\"]]\n",
    "print(f\"Before: # of Text: {len(df_text)}\")\n",
    "\n",
    "# drop the duplicated row\n",
    "duplicated_idx = df_text[[\"Time\", \"ID_From\", \"ID_Received\"]].duplicated()\n",
    "df_text = df_text[~duplicated_idx]\n",
    "print(f\"After: # of Text: {len(df_text)}\")\n",
    "df_text.head(1)"
   ]
  },
  {
   "cell_type": "markdown",
   "metadata": {},
   "source": [
    "# Voice Data"
   ]
  },
  {
   "cell_type": "code",
   "execution_count": 79,
   "metadata": {},
   "outputs": [
    {
     "name": "stdout",
     "output_type": "stream",
     "text": [
      "# of Voice: 3561\n"
     ]
    },
    {
     "data": {
      "text/html": [
       "<div>\n",
       "<style scoped>\n",
       "    .dataframe tbody tr th:only-of-type {\n",
       "        vertical-align: middle;\n",
       "    }\n",
       "\n",
       "    .dataframe tbody tr th {\n",
       "        vertical-align: top;\n",
       "    }\n",
       "\n",
       "    .dataframe thead th {\n",
       "        text-align: right;\n",
       "    }\n",
       "</style>\n",
       "<table border=\"1\" class=\"dataframe\">\n",
       "  <thead>\n",
       "    <tr style=\"text-align: right;\">\n",
       "      <th></th>\n",
       "      <th>nr</th>\n",
       "      <th>Time</th>\n",
       "      <th>ID_From</th>\n",
       "      <th>ID_Received</th>\n",
       "      <th>Duration_in_second</th>\n",
       "      <th>Type</th>\n",
       "      <th>End_Time</th>\n",
       "      <th>overlap_id</th>\n",
       "    </tr>\n",
       "  </thead>\n",
       "  <tbody>\n",
       "    <tr>\n",
       "      <th>98</th>\n",
       "      <td>99</td>\n",
       "      <td>2014-07-01 15:25:00</td>\n",
       "      <td>MEQWEGGDW</td>\n",
       "      <td>MEGGGXPKG</td>\n",
       "      <td>228.0</td>\n",
       "      <td>Voice</td>\n",
       "      <td>2014-07-01 15:28:48</td>\n",
       "      <td>37</td>\n",
       "    </tr>\n",
       "  </tbody>\n",
       "</table>\n",
       "</div>"
      ],
      "text/plain": [
       "    nr                Time    ID_From ID_Received  Duration_in_second   Type  \\\n",
       "98  99 2014-07-01 15:25:00  MEQWEGGDW   MEGGGXPKG               228.0  Voice   \n",
       "\n",
       "              End_Time overlap_id  \n",
       "98 2014-07-01 15:28:48         37  "
      ]
     },
     "execution_count": 79,
     "metadata": {},
     "output_type": "execute_result"
    }
   ],
   "source": [
    "# # 將「通話」和「簡訊」的紀錄分開處理\n",
    "df_voice = df[df[\"Type\"] == \"Voice\"][[\"nr\", \"Time\", \"ID_From\", \"ID_Received\", \"Duration_in_second\", \"Type\"]]\n",
    "df_voice[\"End_Time\"] = df_voice.loc[:, \"Time\"] + pd.to_timedelta(df_voice[\"Duration_in_second\"], unit='s')\n",
    "df_voice[\"overlap_id\"] = pd.NA\n",
    "\n",
    "voice_from_to_lst = df_voice[[\"ID_From\", \"ID_Received\"]].drop_duplicates(subset=[\"ID_From\", \"ID_Received\"]).values.tolist()\n",
    "G = nx.Graph()\n",
    "idx = 0\n",
    "for (id_from, id_received) in voice_from_to_lst:\n",
    "    \n",
    "    sub_voice = df_voice[(df_voice[\"ID_From\"] == id_from) & (df_voice[\"ID_Received\"] == id_received)]\n",
    "    intervals = pd.IntervalIndex.from_arrays(\n",
    "        sub_voice[\"Time\"], sub_voice[\"End_Time\"], closed='both'\n",
    "    )\n",
    "    \n",
    "    # grouping phone calls with overlapped time interval from the same two persons\n",
    "    for interval in intervals:\n",
    "        nr = sub_voice[intervals.overlaps(interval)][\"nr\"].to_list()\n",
    "        G.add_edges_from(\n",
    "            [(nr[i], nr[i+1]) for i in range(len(nr)-2)] + [(nr[-1], nr[0])]\n",
    "        )\n",
    "\n",
    "# keep the latest phone call in each overlapped group\n",
    "CC = [G.subgraph(c).copy() for c in nx.connected_components(G)]\n",
    "for i, c in enumerate(CC):\n",
    "    df_voice.loc[df_voice[\"nr\"].isin(list(c.nodes)), \"overlap_id\"] = i\n",
    "df_voice = df_voice.sort_values('End_Time').groupby([\"overlap_id\"]).tail(1)\n",
    "print(f\"# of Voice: {len(df_voice)}\")\n",
    "df_voice.head(1)"
   ]
  },
  {
   "cell_type": "markdown",
   "metadata": {},
   "source": [
    "# Export Data"
   ]
  },
  {
   "cell_type": "code",
   "execution_count": 81,
   "metadata": {},
   "outputs": [],
   "source": [
    "df = pd.concat([df_voice, df_text])\n",
    "df.to_csv(\"input/input.csv\", index=False)"
   ]
  },
  {
   "cell_type": "code",
   "execution_count": null,
   "metadata": {},
   "outputs": [],
   "source": []
  }
 ],
 "metadata": {
  "kernelspec": {
   "display_name": "Python 3",
   "language": "python",
   "name": "python3"
  },
  "language_info": {
   "codemirror_mode": {
    "name": "ipython",
    "version": 3
   },
   "file_extension": ".py",
   "mimetype": "text/x-python",
   "name": "python",
   "nbconvert_exporter": "python",
   "pygments_lexer": "ipython3",
   "version": "3.7.4"
  }
 },
 "nbformat": 4,
 "nbformat_minor": 2
}
